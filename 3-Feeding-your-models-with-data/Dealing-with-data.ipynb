{
 "cells": [
  {
   "cell_type": "markdown",
   "metadata": {},
   "source": [
    "# Dealing with data\n",
    "\n",
    "One of the most important parts about deep learning is data. Data is pure raw information, human and machine representation of the observation of the world. Everything can be represented in data, including our literature, arts and science. In this lab, we are going to deal with data, apply some techniques to make our data ready to be applied in a machine learning model, and after that, separate our dataset in training, validation and test datasets and feed that data to a deep learning model. "
   ]
  },
  {
   "cell_type": "markdown",
   "metadata": {},
   "source": [
    "## Acquiring data\n",
    "\n",
    "Before you can even prepare your dataset, you need to acquire one. Unless you already work in a place where you already have that data ready for you, you need to collect it yourself. There are a lot of places where you can acquire data, for example:\n",
    "\n",
    "- [Datasets subreddit](https://www.reddit.com/r/datasets/), a community where you can share, request and discuss about datasets;\n",
    "\n",
    "- [Kaggle](https://www.kaggle.com/), where you can search for a lot of different datasets, jupyter notebooks applying that data, and even engage in competitions;\n",
    "\n",
    "- [Awesome datasets in Github](https://github.com/awesomedata/awesome-public-datasets), a curated list of datasets of a lot of different subjects, hosted in Github.\n",
    "\n",
    "Sometimes, your data will not be easily available, and you will have to get your hands dirty to collect it. While it is beyond the scope of this lab, it is worth to mention that common data collection techniques involve the usage of sensors and [web-scraping](https://en.wikipedia.org/wiki/Web_scraping).\n"
   ]
  },
  {
   "cell_type": "markdown",
   "metadata": {},
   "source": [
    "## Preprocessing the data\n",
    "\n",
    "Let's say we downloaded the records of a HR department of a company specialized in engineering. This dataset in particular, is about the hires for a software engineering position."
   ]
  },
  {
   "cell_type": "code",
   "execution_count": 1,
   "metadata": {},
   "outputs": [
    {
     "name": "stderr",
     "output_type": "stream",
     "text": [
      "Using TensorFlow backend.\n"
     ]
    }
   ],
   "source": [
    "# First, let's import our packages as usual.\n",
    "import string\n",
    "import numpy as np\n",
    "import pandas as pd\n",
    "import matplotlib.pyplot as plt\n",
    "from sklearn.preprocessing import LabelEncoder, OneHotEncoder, MinMaxScaler\n",
    "from sklearn.model_selection import train_test_split\n",
    "from keras.layers import Dense, Input\n",
    "from keras.models import Model\n",
    "from keras.optimizers import Adam\n",
    "from keras.utils import np_utils"
   ]
  },
  {
   "cell_type": "code",
   "execution_count": 2,
   "metadata": {},
   "outputs": [
    {
     "name": "stdout",
     "output_type": "stream",
     "text": [
      "Dataset Columns: ['id' 'years_of_experience' 'interview_score' 'name' 'hired']\n",
      "\n"
     ]
    }
   ],
   "source": [
    "# Then, let's load our dataset.\n",
    "import os.path\n",
    "path = \"./Datasets/hires.csv\"\n",
    "if os.path.isfile(path) :\n",
    "    dataset = pd.read_csv(path)\n",
    "else:\n",
    "    dataset = pd.read_csv(\"3-Feeding-your-models-with-data/\" + path)\n",
    "\n",
    "# Let's take a look at the columns we have in this dataset.\n",
    "print(\"Dataset Columns: {}\\n\".format(dataset.columns.values))"
   ]
  },
  {
   "cell_type": "markdown",
   "metadata": {},
   "source": [
    "As you can see, we have the following features:\n",
    "\n",
    "- name: the candidate name;\n",
    "- interview_score: a subjective grade that was given to the performance of the candidate in the hiring interview;\n",
    "- years_of_experience: how many years this particular candidate has in the software engineering industry\n",
    "\n",
    "And a class:\n",
    "\n",
    "- hired: which means if the candidate ended up being hired or not;\n",
    "\n",
    "\n",
    "Now, let's take a closer look at our dataset: "
   ]
  },
  {
   "cell_type": "code",
   "execution_count": 3,
   "metadata": {},
   "outputs": [
    {
     "data": {
      "text/html": [
       "<div>\n",
       "<style scoped>\n",
       "    .dataframe tbody tr th:only-of-type {\n",
       "        vertical-align: middle;\n",
       "    }\n",
       "\n",
       "    .dataframe tbody tr th {\n",
       "        vertical-align: top;\n",
       "    }\n",
       "\n",
       "    .dataframe thead th {\n",
       "        text-align: right;\n",
       "    }\n",
       "</style>\n",
       "<table border=\"1\" class=\"dataframe\">\n",
       "  <thead>\n",
       "    <tr style=\"text-align: right;\">\n",
       "      <th></th>\n",
       "      <th>id</th>\n",
       "      <th>years_of_experience</th>\n",
       "      <th>interview_score</th>\n",
       "      <th>name</th>\n",
       "      <th>hired</th>\n",
       "    </tr>\n",
       "  </thead>\n",
       "  <tbody>\n",
       "    <tr>\n",
       "      <th>0</th>\n",
       "      <td>1</td>\n",
       "      <td>18</td>\n",
       "      <td>0.54</td>\n",
       "      <td>Stacia Ketchen</td>\n",
       "      <td>True</td>\n",
       "    </tr>\n",
       "    <tr>\n",
       "      <th>1</th>\n",
       "      <td>2</td>\n",
       "      <td>6</td>\n",
       "      <td>0.29</td>\n",
       "      <td>Maryann Rumney</td>\n",
       "      <td>False</td>\n",
       "    </tr>\n",
       "    <tr>\n",
       "      <th>2</th>\n",
       "      <td>3</td>\n",
       "      <td>6</td>\n",
       "      <td>NaN</td>\n",
       "      <td>Tristam Oliveti</td>\n",
       "      <td>False</td>\n",
       "    </tr>\n",
       "    <tr>\n",
       "      <th>3</th>\n",
       "      <td>4</td>\n",
       "      <td>2</td>\n",
       "      <td>0.51</td>\n",
       "      <td>Andrea Gianinotti</td>\n",
       "      <td>False</td>\n",
       "    </tr>\n",
       "    <tr>\n",
       "      <th>4</th>\n",
       "      <td>5</td>\n",
       "      <td>2</td>\n",
       "      <td>0.74</td>\n",
       "      <td>Karena Sheran</td>\n",
       "      <td>True</td>\n",
       "    </tr>\n",
       "    <tr>\n",
       "      <th>...</th>\n",
       "      <td>...</td>\n",
       "      <td>...</td>\n",
       "      <td>...</td>\n",
       "      <td>...</td>\n",
       "      <td>...</td>\n",
       "    </tr>\n",
       "    <tr>\n",
       "      <th>995</th>\n",
       "      <td>996</td>\n",
       "      <td>6</td>\n",
       "      <td>0.78</td>\n",
       "      <td>Leese Ciccoloi</td>\n",
       "      <td>True</td>\n",
       "    </tr>\n",
       "    <tr>\n",
       "      <th>996</th>\n",
       "      <td>997</td>\n",
       "      <td>5</td>\n",
       "      <td>0.67</td>\n",
       "      <td>Inger Ivashechkin</td>\n",
       "      <td>True</td>\n",
       "    </tr>\n",
       "    <tr>\n",
       "      <th>997</th>\n",
       "      <td>998</td>\n",
       "      <td>5</td>\n",
       "      <td>0.46</td>\n",
       "      <td>Jessalyn Bedingfield</td>\n",
       "      <td>False</td>\n",
       "    </tr>\n",
       "    <tr>\n",
       "      <th>998</th>\n",
       "      <td>999</td>\n",
       "      <td>5</td>\n",
       "      <td>0.89</td>\n",
       "      <td>Deerdre Squibe</td>\n",
       "      <td>True</td>\n",
       "    </tr>\n",
       "    <tr>\n",
       "      <th>999</th>\n",
       "      <td>1000</td>\n",
       "      <td>3</td>\n",
       "      <td>NaN</td>\n",
       "      <td>Demetri Coxhell</td>\n",
       "      <td>False</td>\n",
       "    </tr>\n",
       "  </tbody>\n",
       "</table>\n",
       "<p>1000 rows × 5 columns</p>\n",
       "</div>"
      ],
      "text/plain": [
       "       id  years_of_experience  interview_score                  name  hired\n",
       "0       1                   18             0.54        Stacia Ketchen   True\n",
       "1       2                    6             0.29        Maryann Rumney  False\n",
       "2       3                    6              NaN       Tristam Oliveti  False\n",
       "3       4                    2             0.51     Andrea Gianinotti  False\n",
       "4       5                    2             0.74         Karena Sheran   True\n",
       "..    ...                  ...              ...                   ...    ...\n",
       "995   996                    6             0.78        Leese Ciccoloi   True\n",
       "996   997                    5             0.67     Inger Ivashechkin   True\n",
       "997   998                    5             0.46  Jessalyn Bedingfield  False\n",
       "998   999                    5             0.89        Deerdre Squibe   True\n",
       "999  1000                    3              NaN       Demetri Coxhell  False\n",
       "\n",
       "[1000 rows x 5 columns]"
      ]
     },
     "execution_count": 3,
     "metadata": {},
     "output_type": "execute_result"
    }
   ],
   "source": [
    "# To see some of the data inside our dataset, simply use the dataset variable.\n",
    "dataset"
   ]
  },
  {
   "cell_type": "markdown",
   "metadata": {},
   "source": [
    "There are some incomplete data inside our dataset. Incomplete data is, most of the times, bad data. So, we need to remove them."
   ]
  },
  {
   "cell_type": "code",
   "execution_count": 4,
   "metadata": {},
   "outputs": [
    {
     "data": {
      "text/html": [
       "<div>\n",
       "<style scoped>\n",
       "    .dataframe tbody tr th:only-of-type {\n",
       "        vertical-align: middle;\n",
       "    }\n",
       "\n",
       "    .dataframe tbody tr th {\n",
       "        vertical-align: top;\n",
       "    }\n",
       "\n",
       "    .dataframe thead th {\n",
       "        text-align: right;\n",
       "    }\n",
       "</style>\n",
       "<table border=\"1\" class=\"dataframe\">\n",
       "  <thead>\n",
       "    <tr style=\"text-align: right;\">\n",
       "      <th></th>\n",
       "      <th>id</th>\n",
       "      <th>years_of_experience</th>\n",
       "      <th>interview_score</th>\n",
       "      <th>name</th>\n",
       "      <th>hired</th>\n",
       "    </tr>\n",
       "  </thead>\n",
       "  <tbody>\n",
       "    <tr>\n",
       "      <th>0</th>\n",
       "      <td>1</td>\n",
       "      <td>18</td>\n",
       "      <td>0.54</td>\n",
       "      <td>Stacia Ketchen</td>\n",
       "      <td>True</td>\n",
       "    </tr>\n",
       "    <tr>\n",
       "      <th>1</th>\n",
       "      <td>2</td>\n",
       "      <td>6</td>\n",
       "      <td>0.29</td>\n",
       "      <td>Maryann Rumney</td>\n",
       "      <td>False</td>\n",
       "    </tr>\n",
       "    <tr>\n",
       "      <th>3</th>\n",
       "      <td>4</td>\n",
       "      <td>2</td>\n",
       "      <td>0.51</td>\n",
       "      <td>Andrea Gianinotti</td>\n",
       "      <td>False</td>\n",
       "    </tr>\n",
       "    <tr>\n",
       "      <th>4</th>\n",
       "      <td>5</td>\n",
       "      <td>2</td>\n",
       "      <td>0.74</td>\n",
       "      <td>Karena Sheran</td>\n",
       "      <td>True</td>\n",
       "    </tr>\n",
       "    <tr>\n",
       "      <th>6</th>\n",
       "      <td>7</td>\n",
       "      <td>9</td>\n",
       "      <td>0.40</td>\n",
       "      <td>Rafaellle Goodbody</td>\n",
       "      <td>False</td>\n",
       "    </tr>\n",
       "    <tr>\n",
       "      <th>...</th>\n",
       "      <td>...</td>\n",
       "      <td>...</td>\n",
       "      <td>...</td>\n",
       "      <td>...</td>\n",
       "      <td>...</td>\n",
       "    </tr>\n",
       "    <tr>\n",
       "      <th>994</th>\n",
       "      <td>995</td>\n",
       "      <td>6</td>\n",
       "      <td>0.67</td>\n",
       "      <td>Alexine Bannister</td>\n",
       "      <td>True</td>\n",
       "    </tr>\n",
       "    <tr>\n",
       "      <th>995</th>\n",
       "      <td>996</td>\n",
       "      <td>6</td>\n",
       "      <td>0.78</td>\n",
       "      <td>Leese Ciccoloi</td>\n",
       "      <td>True</td>\n",
       "    </tr>\n",
       "    <tr>\n",
       "      <th>996</th>\n",
       "      <td>997</td>\n",
       "      <td>5</td>\n",
       "      <td>0.67</td>\n",
       "      <td>Inger Ivashechkin</td>\n",
       "      <td>True</td>\n",
       "    </tr>\n",
       "    <tr>\n",
       "      <th>997</th>\n",
       "      <td>998</td>\n",
       "      <td>5</td>\n",
       "      <td>0.46</td>\n",
       "      <td>Jessalyn Bedingfield</td>\n",
       "      <td>False</td>\n",
       "    </tr>\n",
       "    <tr>\n",
       "      <th>998</th>\n",
       "      <td>999</td>\n",
       "      <td>5</td>\n",
       "      <td>0.89</td>\n",
       "      <td>Deerdre Squibe</td>\n",
       "      <td>True</td>\n",
       "    </tr>\n",
       "  </tbody>\n",
       "</table>\n",
       "<p>905 rows × 5 columns</p>\n",
       "</div>"
      ],
      "text/plain": [
       "      id  years_of_experience  interview_score                  name  hired\n",
       "0      1                   18             0.54        Stacia Ketchen   True\n",
       "1      2                    6             0.29        Maryann Rumney  False\n",
       "3      4                    2             0.51     Andrea Gianinotti  False\n",
       "4      5                    2             0.74         Karena Sheran   True\n",
       "6      7                    9             0.40    Rafaellle Goodbody  False\n",
       "..   ...                  ...              ...                   ...    ...\n",
       "994  995                    6             0.67     Alexine Bannister   True\n",
       "995  996                    6             0.78        Leese Ciccoloi   True\n",
       "996  997                    5             0.67     Inger Ivashechkin   True\n",
       "997  998                    5             0.46  Jessalyn Bedingfield  False\n",
       "998  999                    5             0.89        Deerdre Squibe   True\n",
       "\n",
       "[905 rows x 5 columns]"
      ]
     },
     "execution_count": 4,
     "metadata": {},
     "output_type": "execute_result"
    }
   ],
   "source": [
    "import math\n",
    "# Remove empty rows from dataset\n",
    "for index, data in dataset.iterrows():\n",
    "    if(math.isnan(data.interview_score) or math.isnan(data.years_of_experience)):\n",
    "        dataset.drop(index = index, inplace = True)\n",
    "\n",
    "# Show the updated dataset        \n",
    "dataset"
   ]
  },
  {
   "cell_type": "markdown",
   "metadata": {},
   "source": [
    "We also need to decide what features are important for the problem we are trying to solve. Deciding what features are important, is a key part of machine learning. Remember, bad data equals to bad results, and wrong features are bad data.\n",
    "\n",
    "In this case, the interview score and the years of experience of the candidate are important features, but the name of the candidate is completely irrelevant for our model, so we can just take it out from our dataset:"
   ]
  },
  {
   "cell_type": "code",
   "execution_count": 5,
   "metadata": {},
   "outputs": [
    {
     "data": {
      "text/html": [
       "<div>\n",
       "<style scoped>\n",
       "    .dataframe tbody tr th:only-of-type {\n",
       "        vertical-align: middle;\n",
       "    }\n",
       "\n",
       "    .dataframe tbody tr th {\n",
       "        vertical-align: top;\n",
       "    }\n",
       "\n",
       "    .dataframe thead th {\n",
       "        text-align: right;\n",
       "    }\n",
       "</style>\n",
       "<table border=\"1\" class=\"dataframe\">\n",
       "  <thead>\n",
       "    <tr style=\"text-align: right;\">\n",
       "      <th></th>\n",
       "      <th>years_of_experience</th>\n",
       "      <th>interview_score</th>\n",
       "      <th>hired</th>\n",
       "    </tr>\n",
       "  </thead>\n",
       "  <tbody>\n",
       "    <tr>\n",
       "      <th>0</th>\n",
       "      <td>18</td>\n",
       "      <td>0.54</td>\n",
       "      <td>True</td>\n",
       "    </tr>\n",
       "    <tr>\n",
       "      <th>1</th>\n",
       "      <td>6</td>\n",
       "      <td>0.29</td>\n",
       "      <td>False</td>\n",
       "    </tr>\n",
       "    <tr>\n",
       "      <th>3</th>\n",
       "      <td>2</td>\n",
       "      <td>0.51</td>\n",
       "      <td>False</td>\n",
       "    </tr>\n",
       "    <tr>\n",
       "      <th>4</th>\n",
       "      <td>2</td>\n",
       "      <td>0.74</td>\n",
       "      <td>True</td>\n",
       "    </tr>\n",
       "    <tr>\n",
       "      <th>6</th>\n",
       "      <td>9</td>\n",
       "      <td>0.40</td>\n",
       "      <td>False</td>\n",
       "    </tr>\n",
       "    <tr>\n",
       "      <th>...</th>\n",
       "      <td>...</td>\n",
       "      <td>...</td>\n",
       "      <td>...</td>\n",
       "    </tr>\n",
       "    <tr>\n",
       "      <th>994</th>\n",
       "      <td>6</td>\n",
       "      <td>0.67</td>\n",
       "      <td>True</td>\n",
       "    </tr>\n",
       "    <tr>\n",
       "      <th>995</th>\n",
       "      <td>6</td>\n",
       "      <td>0.78</td>\n",
       "      <td>True</td>\n",
       "    </tr>\n",
       "    <tr>\n",
       "      <th>996</th>\n",
       "      <td>5</td>\n",
       "      <td>0.67</td>\n",
       "      <td>True</td>\n",
       "    </tr>\n",
       "    <tr>\n",
       "      <th>997</th>\n",
       "      <td>5</td>\n",
       "      <td>0.46</td>\n",
       "      <td>False</td>\n",
       "    </tr>\n",
       "    <tr>\n",
       "      <th>998</th>\n",
       "      <td>5</td>\n",
       "      <td>0.89</td>\n",
       "      <td>True</td>\n",
       "    </tr>\n",
       "  </tbody>\n",
       "</table>\n",
       "<p>905 rows × 3 columns</p>\n",
       "</div>"
      ],
      "text/plain": [
       "     years_of_experience  interview_score  hired\n",
       "0                     18             0.54   True\n",
       "1                      6             0.29  False\n",
       "3                      2             0.51  False\n",
       "4                      2             0.74   True\n",
       "6                      9             0.40  False\n",
       "..                   ...              ...    ...\n",
       "994                    6             0.67   True\n",
       "995                    6             0.78   True\n",
       "996                    5             0.67   True\n",
       "997                    5             0.46  False\n",
       "998                    5             0.89   True\n",
       "\n",
       "[905 rows x 3 columns]"
      ]
     },
     "execution_count": 5,
     "metadata": {},
     "output_type": "execute_result"
    }
   ],
   "source": [
    "# Delete the column name\n",
    "del dataset['id']\n",
    "del dataset['name']\n",
    "# Show our updated dataset\n",
    "dataset"
   ]
  },
  {
   "cell_type": "markdown",
   "metadata": {},
   "source": [
    "Another thing that you should have in mind, is that \"True\" and \"False\", doesn't mean anything to a machine. We need to convert that into something that a computer will understand:"
   ]
  },
  {
   "cell_type": "code",
   "execution_count": 6,
   "metadata": {},
   "outputs": [
    {
     "data": {
      "text/html": [
       "<div>\n",
       "<style scoped>\n",
       "    .dataframe tbody tr th:only-of-type {\n",
       "        vertical-align: middle;\n",
       "    }\n",
       "\n",
       "    .dataframe tbody tr th {\n",
       "        vertical-align: top;\n",
       "    }\n",
       "\n",
       "    .dataframe thead th {\n",
       "        text-align: right;\n",
       "    }\n",
       "</style>\n",
       "<table border=\"1\" class=\"dataframe\">\n",
       "  <thead>\n",
       "    <tr style=\"text-align: right;\">\n",
       "      <th></th>\n",
       "      <th>years_of_experience</th>\n",
       "      <th>interview_score</th>\n",
       "      <th>hired</th>\n",
       "    </tr>\n",
       "  </thead>\n",
       "  <tbody>\n",
       "    <tr>\n",
       "      <th>0</th>\n",
       "      <td>18</td>\n",
       "      <td>0.54</td>\n",
       "      <td>1</td>\n",
       "    </tr>\n",
       "    <tr>\n",
       "      <th>1</th>\n",
       "      <td>6</td>\n",
       "      <td>0.29</td>\n",
       "      <td>0</td>\n",
       "    </tr>\n",
       "    <tr>\n",
       "      <th>3</th>\n",
       "      <td>2</td>\n",
       "      <td>0.51</td>\n",
       "      <td>0</td>\n",
       "    </tr>\n",
       "    <tr>\n",
       "      <th>4</th>\n",
       "      <td>2</td>\n",
       "      <td>0.74</td>\n",
       "      <td>1</td>\n",
       "    </tr>\n",
       "    <tr>\n",
       "      <th>6</th>\n",
       "      <td>9</td>\n",
       "      <td>0.40</td>\n",
       "      <td>0</td>\n",
       "    </tr>\n",
       "    <tr>\n",
       "      <th>...</th>\n",
       "      <td>...</td>\n",
       "      <td>...</td>\n",
       "      <td>...</td>\n",
       "    </tr>\n",
       "    <tr>\n",
       "      <th>994</th>\n",
       "      <td>6</td>\n",
       "      <td>0.67</td>\n",
       "      <td>1</td>\n",
       "    </tr>\n",
       "    <tr>\n",
       "      <th>995</th>\n",
       "      <td>6</td>\n",
       "      <td>0.78</td>\n",
       "      <td>1</td>\n",
       "    </tr>\n",
       "    <tr>\n",
       "      <th>996</th>\n",
       "      <td>5</td>\n",
       "      <td>0.67</td>\n",
       "      <td>1</td>\n",
       "    </tr>\n",
       "    <tr>\n",
       "      <th>997</th>\n",
       "      <td>5</td>\n",
       "      <td>0.46</td>\n",
       "      <td>0</td>\n",
       "    </tr>\n",
       "    <tr>\n",
       "      <th>998</th>\n",
       "      <td>5</td>\n",
       "      <td>0.89</td>\n",
       "      <td>1</td>\n",
       "    </tr>\n",
       "  </tbody>\n",
       "</table>\n",
       "<p>905 rows × 3 columns</p>\n",
       "</div>"
      ],
      "text/plain": [
       "     years_of_experience  interview_score  hired\n",
       "0                     18             0.54      1\n",
       "1                      6             0.29      0\n",
       "3                      2             0.51      0\n",
       "4                      2             0.74      1\n",
       "6                      9             0.40      0\n",
       "..                   ...              ...    ...\n",
       "994                    6             0.67      1\n",
       "995                    6             0.78      1\n",
       "996                    5             0.67      1\n",
       "997                    5             0.46      0\n",
       "998                    5             0.89      1\n",
       "\n",
       "[905 rows x 3 columns]"
      ]
     },
     "execution_count": 6,
     "metadata": {},
     "output_type": "execute_result"
    }
   ],
   "source": [
    "# Convert true to 1, and false to 0\n",
    "dataset.hired = dataset.hired.astype(int)\n",
    "dataset"
   ]
  },
  {
   "cell_type": "code",
   "execution_count": 7,
   "metadata": {},
   "outputs": [
    {
     "data": {
      "text/plain": [
       "<matplotlib.axes._subplots.AxesSubplot at 0x7f25d6325d30>"
      ]
     },
     "execution_count": 7,
     "metadata": {},
     "output_type": "execute_result"
    },
    {
     "data": {
      "image/png": "[encoded data removed]",
      "text/plain": [
       "<Figure size 432x288 with 2 Axes>"
      ]
     },
     "metadata": {
      "needs_background": "light"
     },
     "output_type": "display_data"
    }
   ],
   "source": [
    "# Let's plot the dataset, so we can see who got hired and those who didn't.\n",
    "dataset.plot(kind='scatter', x=\"interview_score\", y=\"years_of_experience\", c=\"hired\", colormap='jet')"
   ]
  },
  {
   "cell_type": "markdown",
   "metadata": {},
   "source": [
    "At this point, we could train our network using this dataset. But we could also improve it's representation to make it easier for the network to learn the dataset behavior. The attribute 'years_of_experience' is a value from 1 to 20 (inside our dataset). Let's normalize these values to fit between 0 and 1."
   ]
  },
  {
   "cell_type": "code",
   "execution_count": 8,
   "metadata": {},
   "outputs": [],
   "source": [
    "# Converts the dataset to numpy arrays\n",
    "X = np.array(dataset[[\"years_of_experience\",\"interview_score\"]].astype(float))\n",
    "Y = np.array(dataset[[\"hired\"]])\n",
    "Y = np.ravel(Y)\n",
    "\n",
    "# Normalizes the dataset\n",
    "scaler = MinMaxScaler(feature_range=(0, 1))\n",
    "scaler.fit(np.array([X[:,0]]).T)\n",
    "normalized = scaler.transform(np.array([X[:,0]]).T)\n",
    "\n",
    "# Updates only the attribute \"years_of_experience\" with the normalized values\n",
    "X[:,0] = normalized[:,0]"
   ]
  },
  {
   "cell_type": "markdown",
   "metadata": {},
   "source": [
    "Now, let's separate our dataset into test and training datasets:"
   ]
  },
  {
   "cell_type": "code",
   "execution_count": 9,
   "metadata": {},
   "outputs": [],
   "source": [
    "# Separate the dataset into test and training datasets\n",
    "X_train, X_test, Y_train,Y_test = train_test_split(X, Y, test_size=0.25,)"
   ]
  },
  {
   "cell_type": "markdown",
   "metadata": {},
   "source": [
    "Now let's build a simple classification neural network and train it:"
   ]
  },
  {
   "cell_type": "code",
   "execution_count": 10,
   "metadata": {},
   "outputs": [
    {
     "name": "stdout",
     "output_type": "stream",
     "text": [
      "Model: \"model_1\"\n",
      "_________________________________________________________________\n",
      "Layer (type)                 Output Shape              Param #   \n",
      "=================================================================\n",
      "data (InputLayer)            (None, 2)                 0         \n",
      "_________________________________________________________________\n",
      "dense_1 (Dense)              (None, 128)               384       \n",
      "_________________________________________________________________\n",
      "fc3 (Dense)                  (None, 1)                 129       \n",
      "=================================================================\n",
      "Total params: 513\n",
      "Trainable params: 513\n",
      "Non-trainable params: 0\n",
      "_________________________________________________________________\n",
      "None\n"
     ]
    }
   ],
   "source": [
    "def build_model():\n",
    "    # Input layer\n",
    "    inputs = Input([2, ], name='data')\n",
    "    # Hidden layers\n",
    "    model = Dense(128, activation='relu')(inputs)\n",
    "    # Output layer\n",
    "    outputs = Dense(1, activation='sigmoid', name='fc3')(model)\n",
    "\n",
    "    # Define the model\n",
    "    model = Model(inputs=[inputs], outputs=outputs)\n",
    "\n",
    "    model.compile(optimizer='adam',\n",
    "                  loss='binary_crossentropy',\n",
    "                  metrics=['accuracy'])\n",
    "    return model\n",
    "\n",
    "net = build_model()\n",
    "print(net.summary())"
   ]
  },
  {
   "cell_type": "code",
   "execution_count": 11,
   "metadata": {},
   "outputs": [
    {
     "name": "stdout",
     "output_type": "stream",
     "text": [
      "Train on 678 samples, validate on 227 samples\n",
      "Epoch 1/20\n",
      "678/678 [==============================] - 0s 443us/step - loss: 0.6324 - accuracy: 0.7271 - val_loss: 0.5640 - val_accuracy: 0.8811\n",
      "Epoch 2/20\n",
      "678/678 [==============================] - 0s 159us/step - loss: 0.5263 - accuracy: 0.8363 - val_loss: 0.4397 - val_accuracy: 0.9119\n",
      "Epoch 3/20\n",
      "678/678 [==============================] - 0s 163us/step - loss: 0.4206 - accuracy: 0.8820 - val_loss: 0.3322 - val_accuracy: 0.9383\n",
      "Epoch 4/20\n",
      "678/678 [==============================] - 0s 160us/step - loss: 0.3314 - accuracy: 0.9218 - val_loss: 0.2611 - val_accuracy: 0.9604\n",
      "Epoch 5/20\n",
      "678/678 [==============================] - 0s 165us/step - loss: 0.2692 - accuracy: 0.9425 - val_loss: 0.2061 - val_accuracy: 0.9824\n",
      "Epoch 6/20\n",
      "678/678 [==============================] - 0s 162us/step - loss: 0.2235 - accuracy: 0.9587 - val_loss: 0.1678 - val_accuracy: 0.9824\n",
      "Epoch 7/20\n",
      "678/678 [==============================] - 0s 165us/step - loss: 0.1898 - accuracy: 0.9720 - val_loss: 0.1437 - val_accuracy: 0.9956\n",
      "Epoch 8/20\n",
      "678/678 [==============================] - 0s 161us/step - loss: 0.1672 - accuracy: 0.9808 - val_loss: 0.1258 - val_accuracy: 0.9956\n",
      "Epoch 9/20\n",
      "678/678 [==============================] - 0s 159us/step - loss: 0.1497 - accuracy: 0.9794 - val_loss: 0.1124 - val_accuracy: 0.9912\n",
      "Epoch 10/20\n",
      "678/678 [==============================] - 0s 159us/step - loss: 0.1365 - accuracy: 0.9794 - val_loss: 0.1048 - val_accuracy: 1.0000\n",
      "Epoch 11/20\n",
      "678/678 [==============================] - 0s 165us/step - loss: 0.1261 - accuracy: 0.9853 - val_loss: 0.0969 - val_accuracy: 0.9956\n",
      "Epoch 12/20\n",
      "678/678 [==============================] - 0s 162us/step - loss: 0.1172 - accuracy: 0.9779 - val_loss: 0.0986 - val_accuracy: 0.9780\n",
      "Epoch 13/20\n",
      "678/678 [==============================] - 0s 158us/step - loss: 0.1100 - accuracy: 0.9897 - val_loss: 0.0837 - val_accuracy: 1.0000\n",
      "Epoch 14/20\n",
      "678/678 [==============================] - 0s 170us/step - loss: 0.1045 - accuracy: 0.9926 - val_loss: 0.0794 - val_accuracy: 1.0000\n",
      "Epoch 15/20\n",
      "678/678 [==============================] - 0s 180us/step - loss: 0.0996 - accuracy: 0.9971 - val_loss: 0.0782 - val_accuracy: 0.9912\n",
      "Epoch 16/20\n",
      "678/678 [==============================] - 0s 161us/step - loss: 0.0927 - accuracy: 0.9867 - val_loss: 0.0711 - val_accuracy: 0.9780\n",
      "Epoch 17/20\n",
      "678/678 [==============================] - 0s 162us/step - loss: 0.0905 - accuracy: 0.9956 - val_loss: 0.0682 - val_accuracy: 1.0000\n",
      "Epoch 18/20\n",
      "678/678 [==============================] - 0s 158us/step - loss: 0.0869 - accuracy: 0.9941 - val_loss: 0.0658 - val_accuracy: 0.9956\n",
      "Epoch 19/20\n",
      "678/678 [==============================] - 0s 160us/step - loss: 0.0842 - accuracy: 0.9897 - val_loss: 0.0639 - val_accuracy: 0.9956\n",
      "Epoch 20/20\n",
      "678/678 [==============================] - 0s 161us/step - loss: 0.0806 - accuracy: 0.9912 - val_loss: 0.0600 - val_accuracy: 0.9868\n"
     ]
    },
    {
     "data": {
      "text/plain": [
       "<keras.callbacks.callbacks.History at 0x7f25d0423c88>"
      ]
     },
     "execution_count": 11,
     "metadata": {},
     "output_type": "execute_result"
    }
   ],
   "source": [
    "net.fit(X_train,\n",
    "        Y_train,\n",
    "        validation_data=(X_test, Y_test),\n",
    "        epochs=20,\n",
    "        batch_size=8)"
   ]
  },
  {
   "cell_type": "code",
   "execution_count": 12,
   "metadata": {},
   "outputs": [
    {
     "name": "stdout",
     "output_type": "stream",
     "text": [
      "\n",
      "Test accuracy: 0.9867841601371765\n",
      "Candidate has 100.00% chance to be hired\n"
     ]
    }
   ],
   "source": [
    "# Print model performance\n",
    "test_loss, test_acc = net.evaluate(X_test,  Y_test, verbose=2)\n",
    "print('\\nTest accuracy:', test_acc)\n",
    "\n",
    "# Predict if a new candidate with interview score of 0.6 and 15 years of experience will be hired\n",
    "input = np.array([[15,0.6]])\n",
    "prediction = net.predict(input)\n",
    "for index, predict in enumerate(prediction):\n",
    "    print(\"Candidate has {:.2f}% chance to be hired\".format(predict[0]*100))"
   ]
  },
  {
   "cell_type": "markdown",
   "metadata": {},
   "source": [
    "We can generate a map covering all the possible predictions to see how our model behaves"
   ]
  },
  {
   "cell_type": "code",
   "execution_count": 13,
   "metadata": {},
   "outputs": [
    {
     "name": "stdout",
     "output_type": "stream",
     "text": [
      "Remember that years_of_experience was normalized, so 0 and 1 respectively represent 1.0 and 20.0.\n"
     ]
    },
    {
     "data": {
      "image/png": "[encoded data removed]",
      "text/plain": [
       "<Figure size 432x288 with 1 Axes>"
      ]
     },
     "metadata": {
      "needs_background": "light"
     },
     "output_type": "display_data"
    }
   ],
   "source": [
    "# Generate a classification map\n",
    "N = 60\n",
    "\n",
    "years_range = (X[:,0].min(), X[:,0].max())\n",
    "scores_range = (X[:,1].min()-.1, X[:,1].max()+.1)\n",
    "\n",
    "linear_years = np.linspace(years_range[0], years_range[1], N)\n",
    "linear_scores = np.linspace(scores_range[0], scores_range[1], N)\n",
    "\n",
    "prediction_map = np.array([net.predict(np.array([[i,j]])) for j in linear_scores for i in linear_years]).reshape(N, N)\n",
    "\n",
    "years_range_unscale = scaler.inverse_transform(np.array([years_range]))\n",
    "print(\"Remember that years_of_experience was normalized, so 0 and 1 respectively represent {0} and {1}.\"\n",
    "      .format(years_range_unscale[0,0], years_range_unscale[0,1]))\n",
    "\n",
    "# Plots our test dataset on top of our prediction map\n",
    "plt.imshow(prediction_map,\n",
    "           interpolation='bilinear',\n",
    "           extent=[\n",
    "               years_range[0], years_range[1], scores_range[0], scores_range[1]\n",
    "           ],\n",
    "           aspect='auto' , origin='lower')\n",
    "plt.scatter(np.array(X_test)[:,0], np.array(X_test)[:,1], 40, Y_test, edgecolors='w')\n",
    "plt.show()"
   ]
  }
 ],
 "metadata": {
  "kernelspec": {
   "display_name": "Python 3",
   "language": "python",
   "name": "python3"
  },
  "language_info": {
   "codemirror_mode": {
    "name": "ipython",
    "version": 3
   },
   "file_extension": ".py",
   "mimetype": "text/x-python",
   "name": "python",
   "nbconvert_exporter": "python",
   "pygments_lexer": "ipython3",
   "version": "3.7.3"
  }
 },
 "nbformat": 4,
 "nbformat_minor": 4
}
